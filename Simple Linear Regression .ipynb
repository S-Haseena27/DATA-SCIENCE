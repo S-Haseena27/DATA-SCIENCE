{
 "cells": [
  {
   "cell_type": "markdown",
   "id": "2c239c79",
   "metadata": {},
   "source": [
    "##SIMPLE LINEAR REGRESSION WITH CLEANED DATA"
   ]
  },
  {
   "cell_type": "markdown",
   "id": "214f9380",
   "metadata": {},
   "source": [
    "## Import Packages \n"
   ]
  },
  {
   "cell_type": "code",
   "execution_count": 1,
   "id": "ce7909b8",
   "metadata": {},
   "outputs": [],
   "source": [
    "import os\n",
    "import math\n",
    "import numpy as np \n",
    "import pandas as pd \n",
    "import matplotlib.pyplot as plt "
   ]
  },
  {
   "cell_type": "markdown",
   "id": "9177abc2",
   "metadata": {},
   "source": [
    "## Load The data "
   ]
  },
  {
   "cell_type": "code",
   "execution_count": 2,
   "id": "c6ec3d84",
   "metadata": {},
   "outputs": [],
   "source": [
    "df = pd.read_csv('Salary_Data.csv')\n"
   ]
  },
  {
   "cell_type": "code",
   "execution_count": 3,
   "id": "c94f41c8",
   "metadata": {},
   "outputs": [
    {
     "data": {
      "text/html": [
       "<div>\n",
       "<style scoped>\n",
       "    .dataframe tbody tr th:only-of-type {\n",
       "        vertical-align: middle;\n",
       "    }\n",
       "\n",
       "    .dataframe tbody tr th {\n",
       "        vertical-align: top;\n",
       "    }\n",
       "\n",
       "    .dataframe thead th {\n",
       "        text-align: right;\n",
       "    }\n",
       "</style>\n",
       "<table border=\"1\" class=\"dataframe\">\n",
       "  <thead>\n",
       "    <tr style=\"text-align: right;\">\n",
       "      <th></th>\n",
       "      <th>YearsExperience</th>\n",
       "      <th>Salary</th>\n",
       "    </tr>\n",
       "  </thead>\n",
       "  <tbody>\n",
       "    <tr>\n",
       "      <th>0</th>\n",
       "      <td>1.1</td>\n",
       "      <td>39343.0</td>\n",
       "    </tr>\n",
       "    <tr>\n",
       "      <th>1</th>\n",
       "      <td>1.3</td>\n",
       "      <td>46205.0</td>\n",
       "    </tr>\n",
       "    <tr>\n",
       "      <th>2</th>\n",
       "      <td>1.5</td>\n",
       "      <td>37731.0</td>\n",
       "    </tr>\n",
       "    <tr>\n",
       "      <th>3</th>\n",
       "      <td>2.0</td>\n",
       "      <td>43525.0</td>\n",
       "    </tr>\n",
       "    <tr>\n",
       "      <th>4</th>\n",
       "      <td>2.2</td>\n",
       "      <td>39891.0</td>\n",
       "    </tr>\n",
       "  </tbody>\n",
       "</table>\n",
       "</div>"
      ],
      "text/plain": [
       "   YearsExperience   Salary\n",
       "0              1.1  39343.0\n",
       "1              1.3  46205.0\n",
       "2              1.5  37731.0\n",
       "3              2.0  43525.0\n",
       "4              2.2  39891.0"
      ]
     },
     "execution_count": 3,
     "metadata": {},
     "output_type": "execute_result"
    }
   ],
   "source": [
    "df.head()"
   ]
  },
  {
   "cell_type": "code",
   "execution_count": 4,
   "id": "ffdf920d",
   "metadata": {},
   "outputs": [
    {
     "name": "stdout",
     "output_type": "stream",
     "text": [
      "<class 'pandas.core.frame.DataFrame'>\n",
      "RangeIndex: 30 entries, 0 to 29\n",
      "Data columns (total 2 columns):\n",
      " #   Column           Non-Null Count  Dtype  \n",
      "---  ------           --------------  -----  \n",
      " 0   YearsExperience  30 non-null     float64\n",
      " 1   Salary           30 non-null     float64\n",
      "dtypes: float64(2)\n",
      "memory usage: 608.0 bytes\n"
     ]
    }
   ],
   "source": [
    "df.info()   # finding the information "
   ]
  },
  {
   "cell_type": "code",
   "execution_count": 5,
   "id": "97bc37de",
   "metadata": {},
   "outputs": [
    {
     "data": {
      "text/plain": [
       "YearsExperience    0\n",
       "Salary             0\n",
       "dtype: int64"
      ]
     },
     "execution_count": 5,
     "metadata": {},
     "output_type": "execute_result"
    }
   ],
   "source": [
    "# finding the null values\n",
    "\n",
    "df.isnull().sum()"
   ]
  },
  {
   "cell_type": "markdown",
   "id": "9f6aa8c0",
   "metadata": {},
   "source": [
    "## Complete data Visualization "
   ]
  },
  {
   "cell_type": "code",
   "execution_count": 6,
   "id": "87413368",
   "metadata": {},
   "outputs": [
    {
     "data": {
      "image/png": "[encoded data removed]",
      "text/plain": [
       "<Figure size 432x288 with 1 Axes>"
      ]
     },
     "metadata": {
      "needs_background": "light"
     },
     "output_type": "display_data"
    }
   ],
   "source": [
    "plt.title('Simple Linear Regression')\n",
    "plt.xlabel('years of experience')\n",
    "plt.ylabel('Salary')\n",
    "plt.scatter(df['YearsExperience'] , df['Salary'] , color = 'r' , marker='*')\n",
    "plt.show()"
   ]
  },
  {
   "cell_type": "code",
   "execution_count": 7,
   "id": "561b0011",
   "metadata": {},
   "outputs": [
    {
     "data": {
      "text/plain": [
       "30"
      ]
     },
     "execution_count": 7,
     "metadata": {},
     "output_type": "execute_result"
    }
   ],
   "source": [
    "len(df)"
   ]
  },
  {
   "cell_type": "code",
   "execution_count": 8,
   "id": "bb750d9e",
   "metadata": {
    "scrolled": true
   },
   "outputs": [
    {
     "data": {
      "text/html": [
       "<div>\n",
       "<style scoped>\n",
       "    .dataframe tbody tr th:only-of-type {\n",
       "        vertical-align: middle;\n",
       "    }\n",
       "\n",
       "    .dataframe tbody tr th {\n",
       "        vertical-align: top;\n",
       "    }\n",
       "\n",
       "    .dataframe thead th {\n",
       "        text-align: right;\n",
       "    }\n",
       "</style>\n",
       "<table border=\"1\" class=\"dataframe\">\n",
       "  <thead>\n",
       "    <tr style=\"text-align: right;\">\n",
       "      <th></th>\n",
       "      <th>YearsExperience</th>\n",
       "      <th>Salary</th>\n",
       "    </tr>\n",
       "  </thead>\n",
       "  <tbody>\n",
       "    <tr>\n",
       "      <th>0</th>\n",
       "      <td>1.1</td>\n",
       "      <td>39343.0</td>\n",
       "    </tr>\n",
       "    <tr>\n",
       "      <th>1</th>\n",
       "      <td>1.3</td>\n",
       "      <td>46205.0</td>\n",
       "    </tr>\n",
       "    <tr>\n",
       "      <th>2</th>\n",
       "      <td>1.5</td>\n",
       "      <td>37731.0</td>\n",
       "    </tr>\n",
       "    <tr>\n",
       "      <th>3</th>\n",
       "      <td>2.0</td>\n",
       "      <td>43525.0</td>\n",
       "    </tr>\n",
       "    <tr>\n",
       "      <th>4</th>\n",
       "      <td>2.2</td>\n",
       "      <td>39891.0</td>\n",
       "    </tr>\n",
       "    <tr>\n",
       "      <th>5</th>\n",
       "      <td>2.9</td>\n",
       "      <td>56642.0</td>\n",
       "    </tr>\n",
       "    <tr>\n",
       "      <th>6</th>\n",
       "      <td>3.0</td>\n",
       "      <td>60150.0</td>\n",
       "    </tr>\n",
       "    <tr>\n",
       "      <th>7</th>\n",
       "      <td>3.2</td>\n",
       "      <td>54445.0</td>\n",
       "    </tr>\n",
       "    <tr>\n",
       "      <th>8</th>\n",
       "      <td>3.2</td>\n",
       "      <td>64445.0</td>\n",
       "    </tr>\n",
       "    <tr>\n",
       "      <th>9</th>\n",
       "      <td>3.7</td>\n",
       "      <td>57189.0</td>\n",
       "    </tr>\n",
       "    <tr>\n",
       "      <th>10</th>\n",
       "      <td>3.9</td>\n",
       "      <td>63218.0</td>\n",
       "    </tr>\n",
       "    <tr>\n",
       "      <th>11</th>\n",
       "      <td>4.0</td>\n",
       "      <td>55794.0</td>\n",
       "    </tr>\n",
       "    <tr>\n",
       "      <th>12</th>\n",
       "      <td>4.0</td>\n",
       "      <td>56957.0</td>\n",
       "    </tr>\n",
       "    <tr>\n",
       "      <th>13</th>\n",
       "      <td>4.1</td>\n",
       "      <td>57081.0</td>\n",
       "    </tr>\n",
       "    <tr>\n",
       "      <th>14</th>\n",
       "      <td>4.5</td>\n",
       "      <td>61111.0</td>\n",
       "    </tr>\n",
       "    <tr>\n",
       "      <th>15</th>\n",
       "      <td>4.9</td>\n",
       "      <td>67938.0</td>\n",
       "    </tr>\n",
       "    <tr>\n",
       "      <th>16</th>\n",
       "      <td>5.1</td>\n",
       "      <td>66029.0</td>\n",
       "    </tr>\n",
       "    <tr>\n",
       "      <th>17</th>\n",
       "      <td>5.3</td>\n",
       "      <td>83088.0</td>\n",
       "    </tr>\n",
       "    <tr>\n",
       "      <th>18</th>\n",
       "      <td>5.9</td>\n",
       "      <td>81363.0</td>\n",
       "    </tr>\n",
       "    <tr>\n",
       "      <th>19</th>\n",
       "      <td>6.0</td>\n",
       "      <td>93940.0</td>\n",
       "    </tr>\n",
       "    <tr>\n",
       "      <th>20</th>\n",
       "      <td>6.8</td>\n",
       "      <td>91738.0</td>\n",
       "    </tr>\n",
       "    <tr>\n",
       "      <th>21</th>\n",
       "      <td>7.1</td>\n",
       "      <td>98273.0</td>\n",
       "    </tr>\n",
       "    <tr>\n",
       "      <th>22</th>\n",
       "      <td>7.9</td>\n",
       "      <td>101302.0</td>\n",
       "    </tr>\n",
       "    <tr>\n",
       "      <th>23</th>\n",
       "      <td>8.2</td>\n",
       "      <td>113812.0</td>\n",
       "    </tr>\n",
       "    <tr>\n",
       "      <th>24</th>\n",
       "      <td>8.7</td>\n",
       "      <td>109431.0</td>\n",
       "    </tr>\n",
       "    <tr>\n",
       "      <th>25</th>\n",
       "      <td>9.0</td>\n",
       "      <td>105582.0</td>\n",
       "    </tr>\n",
       "    <tr>\n",
       "      <th>26</th>\n",
       "      <td>9.5</td>\n",
       "      <td>116969.0</td>\n",
       "    </tr>\n",
       "    <tr>\n",
       "      <th>27</th>\n",
       "      <td>9.6</td>\n",
       "      <td>112635.0</td>\n",
       "    </tr>\n",
       "    <tr>\n",
       "      <th>28</th>\n",
       "      <td>10.3</td>\n",
       "      <td>122391.0</td>\n",
       "    </tr>\n",
       "    <tr>\n",
       "      <th>29</th>\n",
       "      <td>10.5</td>\n",
       "      <td>121872.0</td>\n",
       "    </tr>\n",
       "  </tbody>\n",
       "</table>\n",
       "</div>"
      ],
      "text/plain": [
       "    YearsExperience    Salary\n",
       "0               1.1   39343.0\n",
       "1               1.3   46205.0\n",
       "2               1.5   37731.0\n",
       "3               2.0   43525.0\n",
       "4               2.2   39891.0\n",
       "5               2.9   56642.0\n",
       "6               3.0   60150.0\n",
       "7               3.2   54445.0\n",
       "8               3.2   64445.0\n",
       "9               3.7   57189.0\n",
       "10              3.9   63218.0\n",
       "11              4.0   55794.0\n",
       "12              4.0   56957.0\n",
       "13              4.1   57081.0\n",
       "14              4.5   61111.0\n",
       "15              4.9   67938.0\n",
       "16              5.1   66029.0\n",
       "17              5.3   83088.0\n",
       "18              5.9   81363.0\n",
       "19              6.0   93940.0\n",
       "20              6.8   91738.0\n",
       "21              7.1   98273.0\n",
       "22              7.9  101302.0\n",
       "23              8.2  113812.0\n",
       "24              8.7  109431.0\n",
       "25              9.0  105582.0\n",
       "26              9.5  116969.0\n",
       "27              9.6  112635.0\n",
       "28             10.3  122391.0\n",
       "29             10.5  121872.0"
      ]
     },
     "execution_count": 8,
     "metadata": {},
     "output_type": "execute_result"
    }
   ],
   "source": [
    "df"
   ]
  },
  {
   "cell_type": "code",
   "execution_count": 9,
   "id": "bf83a43d",
   "metadata": {},
   "outputs": [],
   "source": [
    "## Represent Independent varriables with x and dependent variables with y "
   ]
  },
  {
   "cell_type": "code",
   "execution_count": 10,
   "id": "9a3e6e22",
   "metadata": {},
   "outputs": [
    {
     "data": {
      "text/plain": [
       "(30,)"
      ]
     },
     "execution_count": 10,
     "metadata": {},
     "output_type": "execute_result"
    }
   ],
   "source": [
    "df['YearsExperience'].shape "
   ]
  },
  {
   "cell_type": "code",
   "execution_count": 11,
   "id": "cee18466",
   "metadata": {},
   "outputs": [],
   "source": [
    "X = df['YearsExperience']  # Independent \n",
    "y = df['Salary']         # Dependent "
   ]
  },
  {
   "cell_type": "code",
   "execution_count": 12,
   "id": "d95f006c",
   "metadata": {},
   "outputs": [
    {
     "data": {
      "text/plain": [
       "array([[ 1.1],\n",
       "       [ 1.3],\n",
       "       [ 1.5],\n",
       "       [ 2. ],\n",
       "       [ 2.2],\n",
       "       [ 2.9],\n",
       "       [ 3. ],\n",
       "       [ 3.2],\n",
       "       [ 3.2],\n",
       "       [ 3.7],\n",
       "       [ 3.9],\n",
       "       [ 4. ],\n",
       "       [ 4. ],\n",
       "       [ 4.1],\n",
       "       [ 4.5],\n",
       "       [ 4.9],\n",
       "       [ 5.1],\n",
       "       [ 5.3],\n",
       "       [ 5.9],\n",
       "       [ 6. ],\n",
       "       [ 6.8],\n",
       "       [ 7.1],\n",
       "       [ 7.9],\n",
       "       [ 8.2],\n",
       "       [ 8.7],\n",
       "       [ 9. ],\n",
       "       [ 9.5],\n",
       "       [ 9.6],\n",
       "       [10.3],\n",
       "       [10.5]])"
      ]
     },
     "execution_count": 12,
     "metadata": {},
     "output_type": "execute_result"
    }
   ],
   "source": [
    "X = X.values.reshape(-1,1)\n",
    "X"
   ]
  },
  {
   "cell_type": "markdown",
   "id": "eeec271e",
   "metadata": {},
   "source": [
    "## Spliting the data into train and test "
   ]
  },
  {
   "cell_type": "code",
   "execution_count": 13,
   "id": "aa207bc6",
   "metadata": {},
   "outputs": [],
   "source": [
    "# import sklearn -> scikit learn "
   ]
  },
  {
   "cell_type": "code",
   "execution_count": 14,
   "id": "dee409c8",
   "metadata": {},
   "outputs": [],
   "source": [
    "import sklearn "
   ]
  },
  {
   "cell_type": "code",
   "execution_count": 15,
   "id": "206fc838",
   "metadata": {},
   "outputs": [],
   "source": [
    "# for spliting the data sklearn providing a method called train_test_split "
   ]
  },
  {
   "cell_type": "code",
   "execution_count": 16,
   "id": "c10fe353",
   "metadata": {},
   "outputs": [],
   "source": [
    "from sklearn.model_selection import train_test_split"
   ]
  },
  {
   "cell_type": "code",
   "execution_count": 17,
   "id": "0bfc0532",
   "metadata": {},
   "outputs": [],
   "source": [
    "X_train , X_test , y_train , y_test = train_test_split(X , y , test_size=0.33 ,random_state=10)"
   ]
  },
  {
   "cell_type": "code",
   "execution_count": 18,
   "id": "44bbff82",
   "metadata": {},
   "outputs": [
    {
     "data": {
      "text/plain": [
       "array([[ 6. ],\n",
       "       [ 4.5],\n",
       "       [ 5.9],\n",
       "       [ 3. ],\n",
       "       [ 4. ],\n",
       "       [ 8.2],\n",
       "       [ 8.7],\n",
       "       [10.3],\n",
       "       [ 7.9],\n",
       "       [ 3.9],\n",
       "       [ 9.5],\n",
       "       [10.5],\n",
       "       [ 3.2],\n",
       "       [ 9. ],\n",
       "       [ 5.1],\n",
       "       [ 5.3],\n",
       "       [ 1.1],\n",
       "       [ 4.9],\n",
       "       [ 2.2],\n",
       "       [ 3.7]])"
      ]
     },
     "execution_count": 18,
     "metadata": {},
     "output_type": "execute_result"
    }
   ],
   "source": [
    "X_train"
   ]
  },
  {
   "cell_type": "code",
   "execution_count": 19,
   "id": "b8d9ddcf",
   "metadata": {},
   "outputs": [
    {
     "data": {
      "text/plain": [
       "19     93940.0\n",
       "14     61111.0\n",
       "18     81363.0\n",
       "6      60150.0\n",
       "11     55794.0\n",
       "23    113812.0\n",
       "24    109431.0\n",
       "28    122391.0\n",
       "22    101302.0\n",
       "10     63218.0\n",
       "26    116969.0\n",
       "29    121872.0\n",
       "8      64445.0\n",
       "25    105582.0\n",
       "16     66029.0\n",
       "17     83088.0\n",
       "0      39343.0\n",
       "15     67938.0\n",
       "4      39891.0\n",
       "9      57189.0\n",
       "Name: Salary, dtype: float64"
      ]
     },
     "execution_count": 19,
     "metadata": {},
     "output_type": "execute_result"
    }
   ],
   "source": [
    "y_train"
   ]
  },
  {
   "cell_type": "code",
   "execution_count": 20,
   "id": "04ed91aa",
   "metadata": {},
   "outputs": [
    {
     "data": {
      "text/plain": [
       "(20, 20)"
      ]
     },
     "execution_count": 20,
     "metadata": {},
     "output_type": "execute_result"
    }
   ],
   "source": [
    "len(X_train) , len(y_train)"
   ]
  },
  {
   "cell_type": "markdown",
   "id": "f25582e1",
   "metadata": {},
   "source": [
    "## Plot Training data"
   ]
  },
  {
   "cell_type": "code",
   "execution_count": 21,
   "id": "eac785dd",
   "metadata": {},
   "outputs": [
    {
     "data": {
      "image/png": "[encoded data removed]",
      "text/plain": [
       "<Figure size 432x288 with 1 Axes>"
      ]
     },
     "metadata": {
      "needs_background": "light"
     },
     "output_type": "display_data"
    }
   ],
   "source": [
    "plt.title('Simple Linear Regression')\n",
    "plt.xlabel('X_train')\n",
    "plt.ylabel('y_train')\n",
    "plt.scatter(X_train, y_train , color = 'b')\n",
    "plt.show()"
   ]
  },
  {
   "cell_type": "markdown",
   "id": "797b62e7",
   "metadata": {},
   "source": [
    "## Feeding to the Algorithm"
   ]
  },
  {
   "cell_type": "code",
   "execution_count": 22,
   "id": "2d994d08",
   "metadata": {},
   "outputs": [],
   "source": [
    "# Simple Linear Regression y = mx + c"
   ]
  },
  {
   "cell_type": "code",
   "execution_count": 23,
   "id": "83d02487",
   "metadata": {},
   "outputs": [],
   "source": [
    "from sklearn.linear_model import LinearRegression "
   ]
  },
  {
   "cell_type": "code",
   "execution_count": 24,
   "id": "74198a91",
   "metadata": {},
   "outputs": [],
   "source": [
    "reg = LinearRegression()"
   ]
  },
  {
   "cell_type": "code",
   "execution_count": 25,
   "id": "3c960c0e",
   "metadata": {},
   "outputs": [
    {
     "data": {
      "text/plain": [
       "LinearRegression()"
      ]
     },
     "execution_count": 25,
     "metadata": {},
     "output_type": "execute_result"
    }
   ],
   "source": [
    "# Giving data to y = mx + c\n",
    "\n",
    "\n",
    "reg.fit(X_train , y_train)"
   ]
  },
  {
   "cell_type": "code",
   "execution_count": 26,
   "id": "fdb04d39",
   "metadata": {},
   "outputs": [
    {
     "data": {
      "text/plain": [
       "array([9514.52350354])"
      ]
     },
     "execution_count": 26,
     "metadata": {},
     "output_type": "execute_result"
    }
   ],
   "source": [
    "# for m(slope)\n",
    "reg.coef_"
   ]
  },
  {
   "cell_type": "code",
   "execution_count": 27,
   "id": "9669d4e9",
   "metadata": {},
   "outputs": [
    {
     "data": {
      "text/plain": [
       "25630.510121837848"
      ]
     },
     "execution_count": 27,
     "metadata": {},
     "output_type": "execute_result"
    }
   ],
   "source": [
    "# for c(intercept)\n",
    "reg.intercept_"
   ]
  },
  {
   "cell_type": "markdown",
   "id": "069480f3",
   "metadata": {},
   "source": [
    "## y = 9514.52350354 * x + 25630.510121837848  is our Model to do predictions "
   ]
  },
  {
   "cell_type": "code",
   "execution_count": 28,
   "id": "9dd58ee4",
   "metadata": {},
   "outputs": [],
   "source": [
    "## checking performance of training data "
   ]
  },
  {
   "cell_type": "code",
   "execution_count": 29,
   "id": "4b880b05",
   "metadata": {},
   "outputs": [],
   "source": [
    "y_train_predictions =reg.predict(X_train)"
   ]
  },
  {
   "cell_type": "code",
   "execution_count": 30,
   "id": "75f3d448",
   "metadata": {},
   "outputs": [
    {
     "data": {
      "text/plain": [
       "array([ 82717.65114305,  68445.86588775,  81766.19879269,  54174.08063244,\n",
       "        63688.60413598, 103649.60285082, 108406.86460259, 123630.10220825,\n",
       "       100795.24579976,  62737.15178562, 116018.48340542, 125533.00690896,\n",
       "        56076.98533315, 111261.22165365,  74154.57998987,  76057.48469057,\n",
       "        36096.48597573,  72251.67528916,  46562.46182961,  60834.24708492])"
      ]
     },
     "execution_count": 30,
     "metadata": {},
     "output_type": "execute_result"
    }
   ],
   "source": [
    "y_train_predictions"
   ]
  },
  {
   "cell_type": "code",
   "execution_count": 31,
   "id": "09e21ffb",
   "metadata": {},
   "outputs": [
    {
     "data": {
      "text/plain": [
       "19     93940.0\n",
       "14     61111.0\n",
       "18     81363.0\n",
       "6      60150.0\n",
       "11     55794.0\n",
       "23    113812.0\n",
       "24    109431.0\n",
       "28    122391.0\n",
       "22    101302.0\n",
       "10     63218.0\n",
       "26    116969.0\n",
       "29    121872.0\n",
       "8      64445.0\n",
       "25    105582.0\n",
       "16     66029.0\n",
       "17     83088.0\n",
       "0      39343.0\n",
       "15     67938.0\n",
       "4      39891.0\n",
       "9      57189.0\n",
       "Name: Salary, dtype: float64"
      ]
     },
     "execution_count": 31,
     "metadata": {},
     "output_type": "execute_result"
    }
   ],
   "source": [
    "y_train"
   ]
  },
  {
   "cell_type": "code",
   "execution_count": 32,
   "id": "4a04ba91",
   "metadata": {},
   "outputs": [
    {
     "data": {
      "text/plain": [
       "(20,)"
      ]
     },
     "execution_count": 32,
     "metadata": {},
     "output_type": "execute_result"
    }
   ],
   "source": [
    "y_train.shape"
   ]
  },
  {
   "cell_type": "code",
   "execution_count": 33,
   "id": "68743e19",
   "metadata": {},
   "outputs": [
    {
     "data": {
      "text/plain": [
       "array([[ 6. ],\n",
       "       [ 4.5],\n",
       "       [ 5.9],\n",
       "       [ 3. ],\n",
       "       [ 4. ],\n",
       "       [ 8.2],\n",
       "       [ 8.7],\n",
       "       [10.3],\n",
       "       [ 7.9],\n",
       "       [ 3.9],\n",
       "       [ 9.5],\n",
       "       [10.5],\n",
       "       [ 3.2],\n",
       "       [ 9. ],\n",
       "       [ 5.1],\n",
       "       [ 5.3],\n",
       "       [ 1.1],\n",
       "       [ 4.9],\n",
       "       [ 2.2],\n",
       "       [ 3.7]])"
      ]
     },
     "execution_count": 33,
     "metadata": {},
     "output_type": "execute_result"
    }
   ],
   "source": [
    "X_train"
   ]
  },
  {
   "cell_type": "code",
   "execution_count": 34,
   "id": "a908b4a3",
   "metadata": {},
   "outputs": [
    {
     "data": {
      "text/plain": [
       "(20, 1)"
      ]
     },
     "execution_count": 34,
     "metadata": {},
     "output_type": "execute_result"
    }
   ],
   "source": [
    "X_train.shape"
   ]
  },
  {
   "cell_type": "code",
   "execution_count": 35,
   "id": "5829a5cb",
   "metadata": {},
   "outputs": [
    {
     "data": {
      "text/plain": [
       "(20,)"
      ]
     },
     "execution_count": 35,
     "metadata": {},
     "output_type": "execute_result"
    }
   ],
   "source": [
    "X_train_1 = X_train.flatten() # convert any dimension to normal values \n",
    "X_train_1.shape\n"
   ]
  },
  {
   "cell_type": "code",
   "execution_count": 36,
   "id": "f074200b",
   "metadata": {
    "scrolled": true
   },
   "outputs": [],
   "source": [
    "train_data_comparision = pd.DataFrame({'X_train':X_train_1, 'y_train_Actual': y_train , 'y_train_predictions': y_train_predictions})\n"
   ]
  },
  {
   "cell_type": "code",
   "execution_count": 37,
   "id": "a3978175",
   "metadata": {},
   "outputs": [
    {
     "data": {
      "text/html": [
       "<div>\n",
       "<style scoped>\n",
       "    .dataframe tbody tr th:only-of-type {\n",
       "        vertical-align: middle;\n",
       "    }\n",
       "\n",
       "    .dataframe tbody tr th {\n",
       "        vertical-align: top;\n",
       "    }\n",
       "\n",
       "    .dataframe thead th {\n",
       "        text-align: right;\n",
       "    }\n",
       "</style>\n",
       "<table border=\"1\" class=\"dataframe\">\n",
       "  <thead>\n",
       "    <tr style=\"text-align: right;\">\n",
       "      <th></th>\n",
       "      <th>X_train</th>\n",
       "      <th>y_train_Actual</th>\n",
       "      <th>y_train_predictions</th>\n",
       "    </tr>\n",
       "  </thead>\n",
       "  <tbody>\n",
       "    <tr>\n",
       "      <th>19</th>\n",
       "      <td>6.0</td>\n",
       "      <td>93940.0</td>\n",
       "      <td>82717.651143</td>\n",
       "    </tr>\n",
       "    <tr>\n",
       "      <th>14</th>\n",
       "      <td>4.5</td>\n",
       "      <td>61111.0</td>\n",
       "      <td>68445.865888</td>\n",
       "    </tr>\n",
       "    <tr>\n",
       "      <th>18</th>\n",
       "      <td>5.9</td>\n",
       "      <td>81363.0</td>\n",
       "      <td>81766.198793</td>\n",
       "    </tr>\n",
       "    <tr>\n",
       "      <th>6</th>\n",
       "      <td>3.0</td>\n",
       "      <td>60150.0</td>\n",
       "      <td>54174.080632</td>\n",
       "    </tr>\n",
       "    <tr>\n",
       "      <th>11</th>\n",
       "      <td>4.0</td>\n",
       "      <td>55794.0</td>\n",
       "      <td>63688.604136</td>\n",
       "    </tr>\n",
       "    <tr>\n",
       "      <th>23</th>\n",
       "      <td>8.2</td>\n",
       "      <td>113812.0</td>\n",
       "      <td>103649.602851</td>\n",
       "    </tr>\n",
       "    <tr>\n",
       "      <th>24</th>\n",
       "      <td>8.7</td>\n",
       "      <td>109431.0</td>\n",
       "      <td>108406.864603</td>\n",
       "    </tr>\n",
       "    <tr>\n",
       "      <th>28</th>\n",
       "      <td>10.3</td>\n",
       "      <td>122391.0</td>\n",
       "      <td>123630.102208</td>\n",
       "    </tr>\n",
       "    <tr>\n",
       "      <th>22</th>\n",
       "      <td>7.9</td>\n",
       "      <td>101302.0</td>\n",
       "      <td>100795.245800</td>\n",
       "    </tr>\n",
       "    <tr>\n",
       "      <th>10</th>\n",
       "      <td>3.9</td>\n",
       "      <td>63218.0</td>\n",
       "      <td>62737.151786</td>\n",
       "    </tr>\n",
       "    <tr>\n",
       "      <th>26</th>\n",
       "      <td>9.5</td>\n",
       "      <td>116969.0</td>\n",
       "      <td>116018.483405</td>\n",
       "    </tr>\n",
       "    <tr>\n",
       "      <th>29</th>\n",
       "      <td>10.5</td>\n",
       "      <td>121872.0</td>\n",
       "      <td>125533.006909</td>\n",
       "    </tr>\n",
       "    <tr>\n",
       "      <th>8</th>\n",
       "      <td>3.2</td>\n",
       "      <td>64445.0</td>\n",
       "      <td>56076.985333</td>\n",
       "    </tr>\n",
       "    <tr>\n",
       "      <th>25</th>\n",
       "      <td>9.0</td>\n",
       "      <td>105582.0</td>\n",
       "      <td>111261.221654</td>\n",
       "    </tr>\n",
       "    <tr>\n",
       "      <th>16</th>\n",
       "      <td>5.1</td>\n",
       "      <td>66029.0</td>\n",
       "      <td>74154.579990</td>\n",
       "    </tr>\n",
       "    <tr>\n",
       "      <th>17</th>\n",
       "      <td>5.3</td>\n",
       "      <td>83088.0</td>\n",
       "      <td>76057.484691</td>\n",
       "    </tr>\n",
       "    <tr>\n",
       "      <th>0</th>\n",
       "      <td>1.1</td>\n",
       "      <td>39343.0</td>\n",
       "      <td>36096.485976</td>\n",
       "    </tr>\n",
       "    <tr>\n",
       "      <th>15</th>\n",
       "      <td>4.9</td>\n",
       "      <td>67938.0</td>\n",
       "      <td>72251.675289</td>\n",
       "    </tr>\n",
       "    <tr>\n",
       "      <th>4</th>\n",
       "      <td>2.2</td>\n",
       "      <td>39891.0</td>\n",
       "      <td>46562.461830</td>\n",
       "    </tr>\n",
       "    <tr>\n",
       "      <th>9</th>\n",
       "      <td>3.7</td>\n",
       "      <td>57189.0</td>\n",
       "      <td>60834.247085</td>\n",
       "    </tr>\n",
       "  </tbody>\n",
       "</table>\n",
       "</div>"
      ],
      "text/plain": [
       "    X_train  y_train_Actual  y_train_predictions\n",
       "19      6.0         93940.0         82717.651143\n",
       "14      4.5         61111.0         68445.865888\n",
       "18      5.9         81363.0         81766.198793\n",
       "6       3.0         60150.0         54174.080632\n",
       "11      4.0         55794.0         63688.604136\n",
       "23      8.2        113812.0        103649.602851\n",
       "24      8.7        109431.0        108406.864603\n",
       "28     10.3        122391.0        123630.102208\n",
       "22      7.9        101302.0        100795.245800\n",
       "10      3.9         63218.0         62737.151786\n",
       "26      9.5        116969.0        116018.483405\n",
       "29     10.5        121872.0        125533.006909\n",
       "8       3.2         64445.0         56076.985333\n",
       "25      9.0        105582.0        111261.221654\n",
       "16      5.1         66029.0         74154.579990\n",
       "17      5.3         83088.0         76057.484691\n",
       "0       1.1         39343.0         36096.485976\n",
       "15      4.9         67938.0         72251.675289\n",
       "4       2.2         39891.0         46562.461830\n",
       "9       3.7         57189.0         60834.247085"
      ]
     },
     "execution_count": 37,
     "metadata": {},
     "output_type": "execute_result"
    }
   ],
   "source": [
    "train_data_comparision"
   ]
  },
  {
   "cell_type": "code",
   "execution_count": 38,
   "id": "2b627ab0",
   "metadata": {},
   "outputs": [],
   "source": [
    "# Difference between Actual and prediction is called residual \n",
    "\n",
    "# Residual formula = (y - y_pred)**2 "
   ]
  },
  {
   "cell_type": "code",
   "execution_count": 39,
   "id": "00690c87",
   "metadata": {},
   "outputs": [
    {
     "data": {
      "image/png": "[encoded data removed]",
      "text/plain": [
       "<Figure size 432x288 with 1 Axes>"
      ]
     },
     "metadata": {
      "needs_background": "light"
     },
     "output_type": "display_data"
    }
   ],
   "source": [
    "plt.title('Simple Linear Regression')\n",
    "plt.xlabel('X_train')\n",
    "plt.ylabel('y_train')\n",
    "plt.scatter(X_train, y_train , color = 'r' , marker='*')\n",
    "plt.plot(X_train , y_train_predictions,color = 'b' , marker = 'o')\n",
    "plt.show()"
   ]
  },
  {
   "cell_type": "markdown",
   "id": "2f1a0411",
   "metadata": {},
   "source": [
    "## Finding the accuracy for training data "
   ]
  },
  {
   "cell_type": "code",
   "execution_count": 40,
   "id": "ba42d882",
   "metadata": {},
   "outputs": [],
   "source": [
    "from sklearn.metrics import r2_score"
   ]
  },
  {
   "cell_type": "code",
   "execution_count": 41,
   "id": "fb355d66",
   "metadata": {},
   "outputs": [
    {
     "data": {
      "text/plain": [
       "0.9504480256569947"
      ]
     },
     "execution_count": 41,
     "metadata": {},
     "output_type": "execute_result"
    }
   ],
   "source": [
    "r2_score(y_train , y_train_predictions)"
   ]
  },
  {
   "cell_type": "markdown",
   "id": "95c27e83",
   "metadata": {},
   "source": [
    "### Test data "
   ]
  },
  {
   "cell_type": "code",
   "execution_count": 42,
   "id": "ebf5340c",
   "metadata": {},
   "outputs": [],
   "source": [
    "# based on test accuracy we will decide model performance "
   ]
  },
  {
   "cell_type": "code",
   "execution_count": 43,
   "id": "c4144743",
   "metadata": {},
   "outputs": [
    {
     "data": {
      "text/plain": [
       "array([[6.8],\n",
       "       [3.2],\n",
       "       [2.9],\n",
       "       [1.5],\n",
       "       [2. ],\n",
       "       [7.1],\n",
       "       [4.1],\n",
       "       [9.6],\n",
       "       [4. ],\n",
       "       [1.3]])"
      ]
     },
     "execution_count": 43,
     "metadata": {},
     "output_type": "execute_result"
    }
   ],
   "source": [
    "X_test"
   ]
  },
  {
   "cell_type": "code",
   "execution_count": 44,
   "id": "0d2007da",
   "metadata": {},
   "outputs": [
    {
     "data": {
      "text/plain": [
       "20     91738.0\n",
       "7      54445.0\n",
       "5      56642.0\n",
       "2      37731.0\n",
       "3      43525.0\n",
       "21     98273.0\n",
       "13     57081.0\n",
       "27    112635.0\n",
       "12     56957.0\n",
       "1      46205.0\n",
       "Name: Salary, dtype: float64"
      ]
     },
     "execution_count": 44,
     "metadata": {},
     "output_type": "execute_result"
    }
   ],
   "source": [
    "y_test"
   ]
  },
  {
   "cell_type": "code",
   "execution_count": 45,
   "id": "c26796d0",
   "metadata": {},
   "outputs": [],
   "source": [
    "y_test_pred = reg.predict(X_test)"
   ]
  },
  {
   "cell_type": "code",
   "execution_count": 46,
   "id": "26f7b560",
   "metadata": {},
   "outputs": [],
   "source": [
    "test_data_comparision = pd.DataFrame({'X_test':X_test.flatten(), 'y_test_Actual': y_test , 'y_test_predictions': y_test_pred})\n"
   ]
  },
  {
   "cell_type": "code",
   "execution_count": 47,
   "id": "ca45b0fa",
   "metadata": {},
   "outputs": [
    {
     "data": {
      "text/html": [
       "<div>\n",
       "<style scoped>\n",
       "    .dataframe tbody tr th:only-of-type {\n",
       "        vertical-align: middle;\n",
       "    }\n",
       "\n",
       "    .dataframe tbody tr th {\n",
       "        vertical-align: top;\n",
       "    }\n",
       "\n",
       "    .dataframe thead th {\n",
       "        text-align: right;\n",
       "    }\n",
       "</style>\n",
       "<table border=\"1\" class=\"dataframe\">\n",
       "  <thead>\n",
       "    <tr style=\"text-align: right;\">\n",
       "      <th></th>\n",
       "      <th>X_test</th>\n",
       "      <th>y_test_Actual</th>\n",
       "      <th>y_test_predictions</th>\n",
       "    </tr>\n",
       "  </thead>\n",
       "  <tbody>\n",
       "    <tr>\n",
       "      <th>20</th>\n",
       "      <td>6.8</td>\n",
       "      <td>91738.0</td>\n",
       "      <td>90329.269946</td>\n",
       "    </tr>\n",
       "    <tr>\n",
       "      <th>7</th>\n",
       "      <td>3.2</td>\n",
       "      <td>54445.0</td>\n",
       "      <td>56076.985333</td>\n",
       "    </tr>\n",
       "    <tr>\n",
       "      <th>5</th>\n",
       "      <td>2.9</td>\n",
       "      <td>56642.0</td>\n",
       "      <td>53222.628282</td>\n",
       "    </tr>\n",
       "    <tr>\n",
       "      <th>2</th>\n",
       "      <td>1.5</td>\n",
       "      <td>37731.0</td>\n",
       "      <td>39902.295377</td>\n",
       "    </tr>\n",
       "    <tr>\n",
       "      <th>3</th>\n",
       "      <td>2.0</td>\n",
       "      <td>43525.0</td>\n",
       "      <td>44659.557129</td>\n",
       "    </tr>\n",
       "    <tr>\n",
       "      <th>21</th>\n",
       "      <td>7.1</td>\n",
       "      <td>98273.0</td>\n",
       "      <td>93183.626997</td>\n",
       "    </tr>\n",
       "    <tr>\n",
       "      <th>13</th>\n",
       "      <td>4.1</td>\n",
       "      <td>57081.0</td>\n",
       "      <td>64640.056486</td>\n",
       "    </tr>\n",
       "    <tr>\n",
       "      <th>27</th>\n",
       "      <td>9.6</td>\n",
       "      <td>112635.0</td>\n",
       "      <td>116969.935756</td>\n",
       "    </tr>\n",
       "    <tr>\n",
       "      <th>12</th>\n",
       "      <td>4.0</td>\n",
       "      <td>56957.0</td>\n",
       "      <td>63688.604136</td>\n",
       "    </tr>\n",
       "    <tr>\n",
       "      <th>1</th>\n",
       "      <td>1.3</td>\n",
       "      <td>46205.0</td>\n",
       "      <td>37999.390676</td>\n",
       "    </tr>\n",
       "  </tbody>\n",
       "</table>\n",
       "</div>"
      ],
      "text/plain": [
       "    X_test  y_test_Actual  y_test_predictions\n",
       "20     6.8        91738.0        90329.269946\n",
       "7      3.2        54445.0        56076.985333\n",
       "5      2.9        56642.0        53222.628282\n",
       "2      1.5        37731.0        39902.295377\n",
       "3      2.0        43525.0        44659.557129\n",
       "21     7.1        98273.0        93183.626997\n",
       "13     4.1        57081.0        64640.056486\n",
       "27     9.6       112635.0       116969.935756\n",
       "12     4.0        56957.0        63688.604136\n",
       "1      1.3        46205.0        37999.390676"
      ]
     },
     "execution_count": 47,
     "metadata": {},
     "output_type": "execute_result"
    }
   ],
   "source": [
    "test_data_comparision"
   ]
  },
  {
   "cell_type": "code",
   "execution_count": 48,
   "id": "f8e347e3",
   "metadata": {},
   "outputs": [],
   "source": [
    "## Accuracy for the test data "
   ]
  },
  {
   "cell_type": "code",
   "execution_count": 49,
   "id": "8c48736e",
   "metadata": {},
   "outputs": [
    {
     "data": {
      "text/plain": [
       "0.9602319713033926"
      ]
     },
     "execution_count": 49,
     "metadata": {},
     "output_type": "execute_result"
    }
   ],
   "source": [
    "r2_score(y_test , y_test_pred)"
   ]
  },
  {
   "cell_type": "code",
   "execution_count": 50,
   "id": "744e77a7",
   "metadata": {},
   "outputs": [
    {
     "data": {
      "image/png": "[encoded data removed]",
      "text/plain": [
       "<Figure size 432x288 with 1 Axes>"
      ]
     },
     "metadata": {
      "needs_background": "light"
     },
     "output_type": "display_data"
    }
   ],
   "source": [
    "plt.title('Simple Linear Regression')\n",
    "plt.xlabel('X_test')\n",
    "plt.ylabel('y_test')\n",
    "plt.scatter(X_test, y_test , color = 'r' , marker='*') # actual \n",
    "plt.plot(X_test , y_test_pred,color = 'b' , marker = 'o')  # pred\n",
    "plt.show()"
   ]
  },
  {
   "cell_type": "code",
   "execution_count": 51,
   "id": "797b3b9c",
   "metadata": {},
   "outputs": [],
   "source": [
    "## checking with real data "
   ]
  },
  {
   "cell_type": "code",
   "execution_count": 52,
   "id": "6a875f66",
   "metadata": {},
   "outputs": [
    {
     "data": {
      "text/plain": [
       "array([125533.00690896])"
      ]
     },
     "execution_count": 52,
     "metadata": {},
     "output_type": "execute_result"
    }
   ],
   "source": [
    "reg.predict([[10.5]])"
   ]
  }
 ],
 "metadata": {
  "kernelspec": {
   "display_name": "Python 3 (ipykernel)",
   "language": "python",
   "name": "python3"
  },
  "language_info": {
   "codemirror_mode": {
    "name": "ipython",
    "version": 3
   },
   "file_extension": ".py",
   "mimetype": "text/x-python",
   "name": "python",
   "nbconvert_exporter": "python",
   "pygments_lexer": "ipython3",
   "version": "3.9.12"
  }
 },
 "nbformat": 4,
 "nbformat_minor": 5
}
